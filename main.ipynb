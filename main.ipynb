{
 "cells": [
  {
   "cell_type": "code",
   "execution_count": 4,
   "id": "1e57d2ed-6f4a-4477-9be9-c36cbd9d9dbf",
   "metadata": {},
   "outputs": [],
   "source": [
    "import pandas as pd\n",
    "import numpy as np\n",
    "import tensorflow as tf\n",
    "import matplotlib.pyplot as plt\n",
    "\n",
    "import os\n",
    "from pathlib import Path"
   ]
  },
  {
   "cell_type": "markdown",
   "id": "4e0e49ee-6900-4fb0-ba22-da2d0a91d55d",
   "metadata": {},
   "source": [
    "## Preprocessing the dataset\n",
    "\n",
    "Images need to go to a df, then convert the RGB channels into pixels."
   ]
  },
  {
   "cell_type": "code",
   "execution_count": 5,
   "id": "e585729a-a132-436f-8dd2-e22db98c3cf4",
   "metadata": {},
   "outputs": [],
   "source": [
    "dataset_route = \"../GroceryStoreDataset/dataset/\"\n",
    "train_txt_route = \"../GroceryStoreDataset/dataset/train.txt\"\n",
    "val_txt_route = \"../GroceryStoreDataset/dataset/val.txt\"\n",
    "test_txt_route = \"../GroceryStoreDataset/dataset/test.txt\""
   ]
  },
  {
   "cell_type": "code",
   "execution_count": 6,
   "id": "be13dd9e-149b-43c8-b18d-c4954bc8aef9",
   "metadata": {},
   "outputs": [],
   "source": [
    "def process_txt(route):\n",
    "    df = pd.read_csv(route, sep=\",\",header=None,names=[\"route\", \"fine\", \"coarse\", 'tensor'])\n",
    "    return df"
   ]
  },
  {
   "cell_type": "code",
   "execution_count": 7,
   "id": "95fdb1ab-9b29-479f-87fb-2d530d51bf1f",
   "metadata": {},
   "outputs": [
    {
     "data": {
      "text/html": [
       "<div>\n",
       "<style scoped>\n",
       "    .dataframe tbody tr th:only-of-type {\n",
       "        vertical-align: middle;\n",
       "    }\n",
       "\n",
       "    .dataframe tbody tr th {\n",
       "        vertical-align: top;\n",
       "    }\n",
       "\n",
       "    .dataframe thead th {\n",
       "        text-align: right;\n",
       "    }\n",
       "</style>\n",
       "<table border=\"1\" class=\"dataframe\">\n",
       "  <thead>\n",
       "    <tr style=\"text-align: right;\">\n",
       "      <th></th>\n",
       "      <th>route</th>\n",
       "      <th>fine</th>\n",
       "      <th>coarse</th>\n",
       "      <th>tensor</th>\n",
       "    </tr>\n",
       "  </thead>\n",
       "  <tbody>\n",
       "    <tr>\n",
       "      <th>0</th>\n",
       "      <td>train/Fruit/Apple/Golden-Delicious/Golden-Deli...</td>\n",
       "      <td>0</td>\n",
       "      <td>0</td>\n",
       "      <td>NaN</td>\n",
       "    </tr>\n",
       "    <tr>\n",
       "      <th>1</th>\n",
       "      <td>train/Fruit/Apple/Golden-Delicious/Golden-Deli...</td>\n",
       "      <td>0</td>\n",
       "      <td>0</td>\n",
       "      <td>NaN</td>\n",
       "    </tr>\n",
       "    <tr>\n",
       "      <th>2</th>\n",
       "      <td>train/Fruit/Apple/Golden-Delicious/Golden-Deli...</td>\n",
       "      <td>0</td>\n",
       "      <td>0</td>\n",
       "      <td>NaN</td>\n",
       "    </tr>\n",
       "    <tr>\n",
       "      <th>3</th>\n",
       "      <td>train/Fruit/Apple/Golden-Delicious/Golden-Deli...</td>\n",
       "      <td>0</td>\n",
       "      <td>0</td>\n",
       "      <td>NaN</td>\n",
       "    </tr>\n",
       "    <tr>\n",
       "      <th>4</th>\n",
       "      <td>train/Fruit/Apple/Golden-Delicious/Golden-Deli...</td>\n",
       "      <td>0</td>\n",
       "      <td>0</td>\n",
       "      <td>NaN</td>\n",
       "    </tr>\n",
       "  </tbody>\n",
       "</table>\n",
       "</div>"
      ],
      "text/plain": [
       "                                               route  fine  coarse  tensor\n",
       "0  train/Fruit/Apple/Golden-Delicious/Golden-Deli...     0       0     NaN\n",
       "1  train/Fruit/Apple/Golden-Delicious/Golden-Deli...     0       0     NaN\n",
       "2  train/Fruit/Apple/Golden-Delicious/Golden-Deli...     0       0     NaN\n",
       "3  train/Fruit/Apple/Golden-Delicious/Golden-Deli...     0       0     NaN\n",
       "4  train/Fruit/Apple/Golden-Delicious/Golden-Deli...     0       0     NaN"
      ]
     },
     "execution_count": 7,
     "metadata": {},
     "output_type": "execute_result"
    }
   ],
   "source": [
    "df = process_txt(train_txt_route)\n",
    "df.head()"
   ]
  },
  {
   "cell_type": "code",
   "execution_count": 8,
   "id": "2c7efba4-1391-494a-853b-1a81346c18b3",
   "metadata": {},
   "outputs": [
    {
     "data": {
      "text/plain": [
       "(2640, 4)"
      ]
     },
     "execution_count": 8,
     "metadata": {},
     "output_type": "execute_result"
    }
   ],
   "source": [
    "df.shape"
   ]
  },
  {
   "cell_type": "code",
   "execution_count": 9,
   "id": "24ce55e1-b3c6-48c5-a905-f7aba325250c",
   "metadata": {},
   "outputs": [
    {
     "data": {
      "text/html": [
       "<div>\n",
       "<style scoped>\n",
       "    .dataframe tbody tr th:only-of-type {\n",
       "        vertical-align: middle;\n",
       "    }\n",
       "\n",
       "    .dataframe tbody tr th {\n",
       "        vertical-align: top;\n",
       "    }\n",
       "\n",
       "    .dataframe thead th {\n",
       "        text-align: right;\n",
       "    }\n",
       "</style>\n",
       "<table border=\"1\" class=\"dataframe\">\n",
       "  <thead>\n",
       "    <tr style=\"text-align: right;\">\n",
       "      <th></th>\n",
       "      <th>route</th>\n",
       "      <th>fine</th>\n",
       "      <th>coarse</th>\n",
       "      <th>tensor</th>\n",
       "    </tr>\n",
       "  </thead>\n",
       "  <tbody>\n",
       "    <tr>\n",
       "      <th>0</th>\n",
       "      <td>val/Fruit/Apple/Golden-Delicious/Golden-Delici...</td>\n",
       "      <td>0</td>\n",
       "      <td>0</td>\n",
       "      <td>NaN</td>\n",
       "    </tr>\n",
       "    <tr>\n",
       "      <th>1</th>\n",
       "      <td>val/Fruit/Apple/Golden-Delicious/Golden-Delici...</td>\n",
       "      <td>0</td>\n",
       "      <td>0</td>\n",
       "      <td>NaN</td>\n",
       "    </tr>\n",
       "    <tr>\n",
       "      <th>2</th>\n",
       "      <td>val/Fruit/Apple/Golden-Delicious/Golden-Delici...</td>\n",
       "      <td>0</td>\n",
       "      <td>0</td>\n",
       "      <td>NaN</td>\n",
       "    </tr>\n",
       "    <tr>\n",
       "      <th>3</th>\n",
       "      <td>val/Fruit/Apple/Golden-Delicious/Golden-Delici...</td>\n",
       "      <td>0</td>\n",
       "      <td>0</td>\n",
       "      <td>NaN</td>\n",
       "    </tr>\n",
       "    <tr>\n",
       "      <th>4</th>\n",
       "      <td>val/Fruit/Apple/Golden-Delicious/Golden-Delici...</td>\n",
       "      <td>0</td>\n",
       "      <td>0</td>\n",
       "      <td>NaN</td>\n",
       "    </tr>\n",
       "  </tbody>\n",
       "</table>\n",
       "</div>"
      ],
      "text/plain": [
       "                                               route  fine  coarse  tensor\n",
       "0  val/Fruit/Apple/Golden-Delicious/Golden-Delici...     0       0     NaN\n",
       "1  val/Fruit/Apple/Golden-Delicious/Golden-Delici...     0       0     NaN\n",
       "2  val/Fruit/Apple/Golden-Delicious/Golden-Delici...     0       0     NaN\n",
       "3  val/Fruit/Apple/Golden-Delicious/Golden-Delici...     0       0     NaN\n",
       "4  val/Fruit/Apple/Golden-Delicious/Golden-Delici...     0       0     NaN"
      ]
     },
     "execution_count": 9,
     "metadata": {},
     "output_type": "execute_result"
    }
   ],
   "source": [
    "df_val = process_txt(val_txt_route)\n",
    "df_val.head()"
   ]
  },
  {
   "cell_type": "code",
   "execution_count": 10,
   "id": "909640e9-baf5-471b-a9ea-b4ae1f8c1351",
   "metadata": {},
   "outputs": [
    {
     "data": {
      "text/html": [
       "<div>\n",
       "<style scoped>\n",
       "    .dataframe tbody tr th:only-of-type {\n",
       "        vertical-align: middle;\n",
       "    }\n",
       "\n",
       "    .dataframe tbody tr th {\n",
       "        vertical-align: top;\n",
       "    }\n",
       "\n",
       "    .dataframe thead th {\n",
       "        text-align: right;\n",
       "    }\n",
       "</style>\n",
       "<table border=\"1\" class=\"dataframe\">\n",
       "  <thead>\n",
       "    <tr style=\"text-align: right;\">\n",
       "      <th></th>\n",
       "      <th>route</th>\n",
       "      <th>fine</th>\n",
       "      <th>coarse</th>\n",
       "      <th>tensor</th>\n",
       "    </tr>\n",
       "  </thead>\n",
       "  <tbody>\n",
       "    <tr>\n",
       "      <th>0</th>\n",
       "      <td>test/Fruit/Apple/Golden-Delicious/Golden-Delic...</td>\n",
       "      <td>0</td>\n",
       "      <td>0</td>\n",
       "      <td>NaN</td>\n",
       "    </tr>\n",
       "    <tr>\n",
       "      <th>1</th>\n",
       "      <td>test/Fruit/Apple/Golden-Delicious/Golden-Delic...</td>\n",
       "      <td>0</td>\n",
       "      <td>0</td>\n",
       "      <td>NaN</td>\n",
       "    </tr>\n",
       "    <tr>\n",
       "      <th>2</th>\n",
       "      <td>test/Fruit/Apple/Golden-Delicious/Golden-Delic...</td>\n",
       "      <td>0</td>\n",
       "      <td>0</td>\n",
       "      <td>NaN</td>\n",
       "    </tr>\n",
       "    <tr>\n",
       "      <th>3</th>\n",
       "      <td>test/Fruit/Apple/Golden-Delicious/Golden-Delic...</td>\n",
       "      <td>0</td>\n",
       "      <td>0</td>\n",
       "      <td>NaN</td>\n",
       "    </tr>\n",
       "    <tr>\n",
       "      <th>4</th>\n",
       "      <td>test/Fruit/Apple/Golden-Delicious/Golden-Delic...</td>\n",
       "      <td>0</td>\n",
       "      <td>0</td>\n",
       "      <td>NaN</td>\n",
       "    </tr>\n",
       "  </tbody>\n",
       "</table>\n",
       "</div>"
      ],
      "text/plain": [
       "                                               route  fine  coarse  tensor\n",
       "0  test/Fruit/Apple/Golden-Delicious/Golden-Delic...     0       0     NaN\n",
       "1  test/Fruit/Apple/Golden-Delicious/Golden-Delic...     0       0     NaN\n",
       "2  test/Fruit/Apple/Golden-Delicious/Golden-Delic...     0       0     NaN\n",
       "3  test/Fruit/Apple/Golden-Delicious/Golden-Delic...     0       0     NaN\n",
       "4  test/Fruit/Apple/Golden-Delicious/Golden-Delic...     0       0     NaN"
      ]
     },
     "execution_count": 10,
     "metadata": {},
     "output_type": "execute_result"
    }
   ],
   "source": [
    "df_test = process_txt(test_txt_route)\n",
    "df_test.head()"
   ]
  },
  {
   "cell_type": "markdown",
   "id": "e1752edf-fe67-4a0e-b0b0-6ff061de766c",
   "metadata": {},
   "source": [
    "## From images to pixels\n",
    "\n",
    "ResNet CNN uses a 224x224 pixels. Then, we must:\n",
    "\n",
    "1. resize the images\n",
    "2. convert them into a processable data for the cnn"
   ]
  },
  {
   "cell_type": "code",
   "execution_count": 11,
   "id": "1544823d-eab9-45da-98bd-dcb8ce27fff5",
   "metadata": {},
   "outputs": [],
   "source": [
    "def resize_image(route, size=(224,224)):\n",
    "    img = tf.io.read_file(route)\n",
    "    img = tf.image.decode_jpeg(img, channels=3)\n",
    "    img_resized = tf.image.resize(img, [224, 224])\n",
    "    img_normalised = img_resized / 255.0 # normalise data to improve performance and acc\n",
    "    return img_normalised"
   ]
  },
  {
   "cell_type": "code",
   "execution_count": 14,
   "id": "5eb390c7-94d2-4f11-a932-d772ca8d39b6",
   "metadata": {},
   "outputs": [
    {
     "data": {
      "text/html": [
       "<div>\n",
       "<style scoped>\n",
       "    .dataframe tbody tr th:only-of-type {\n",
       "        vertical-align: middle;\n",
       "    }\n",
       "\n",
       "    .dataframe tbody tr th {\n",
       "        vertical-align: top;\n",
       "    }\n",
       "\n",
       "    .dataframe thead th {\n",
       "        text-align: right;\n",
       "    }\n",
       "</style>\n",
       "<table border=\"1\" class=\"dataframe\">\n",
       "  <thead>\n",
       "    <tr style=\"text-align: right;\">\n",
       "      <th></th>\n",
       "      <th>route</th>\n",
       "      <th>fine</th>\n",
       "      <th>coarse</th>\n",
       "      <th>tensor</th>\n",
       "    </tr>\n",
       "  </thead>\n",
       "  <tbody>\n",
       "    <tr>\n",
       "      <th>0</th>\n",
       "      <td>train/Fruit/Apple/Golden-Delicious/Golden-Deli...</td>\n",
       "      <td>0</td>\n",
       "      <td>0</td>\n",
       "      <td>(((tf.Tensor(0.07058824, shape=(), dtype=float...</td>\n",
       "    </tr>\n",
       "    <tr>\n",
       "      <th>1</th>\n",
       "      <td>train/Fruit/Apple/Golden-Delicious/Golden-Deli...</td>\n",
       "      <td>0</td>\n",
       "      <td>0</td>\n",
       "      <td>(((tf.Tensor(0.5783479, shape=(), dtype=float3...</td>\n",
       "    </tr>\n",
       "    <tr>\n",
       "      <th>2</th>\n",
       "      <td>train/Fruit/Apple/Golden-Delicious/Golden-Deli...</td>\n",
       "      <td>0</td>\n",
       "      <td>0</td>\n",
       "      <td>(((tf.Tensor(0.34684873, shape=(), dtype=float...</td>\n",
       "    </tr>\n",
       "    <tr>\n",
       "      <th>3</th>\n",
       "      <td>train/Fruit/Apple/Golden-Delicious/Golden-Deli...</td>\n",
       "      <td>0</td>\n",
       "      <td>0</td>\n",
       "      <td>(((tf.Tensor(0.74612814, shape=(), dtype=float...</td>\n",
       "    </tr>\n",
       "    <tr>\n",
       "      <th>4</th>\n",
       "      <td>train/Fruit/Apple/Golden-Delicious/Golden-Deli...</td>\n",
       "      <td>0</td>\n",
       "      <td>0</td>\n",
       "      <td>(((tf.Tensor(0.394208, shape=(), dtype=float32...</td>\n",
       "    </tr>\n",
       "  </tbody>\n",
       "</table>\n",
       "</div>"
      ],
      "text/plain": [
       "                                               route  fine  coarse  \\\n",
       "0  train/Fruit/Apple/Golden-Delicious/Golden-Deli...     0       0   \n",
       "1  train/Fruit/Apple/Golden-Delicious/Golden-Deli...     0       0   \n",
       "2  train/Fruit/Apple/Golden-Delicious/Golden-Deli...     0       0   \n",
       "3  train/Fruit/Apple/Golden-Delicious/Golden-Deli...     0       0   \n",
       "4  train/Fruit/Apple/Golden-Delicious/Golden-Deli...     0       0   \n",
       "\n",
       "                                              tensor  \n",
       "0  (((tf.Tensor(0.07058824, shape=(), dtype=float...  \n",
       "1  (((tf.Tensor(0.5783479, shape=(), dtype=float3...  \n",
       "2  (((tf.Tensor(0.34684873, shape=(), dtype=float...  \n",
       "3  (((tf.Tensor(0.74612814, shape=(), dtype=float...  \n",
       "4  (((tf.Tensor(0.394208, shape=(), dtype=float32...  "
      ]
     },
     "execution_count": 14,
     "metadata": {},
     "output_type": "execute_result"
    }
   ],
   "source": [
    "df[\"tensor\"] = df[\"route\"].apply(lambda x: resize_image(os.path.join(dataset_route, x)))\n",
    "df.head()"
   ]
  },
  {
   "cell_type": "code",
   "execution_count": 15,
   "id": "7229139e-2e02-4404-a7ac-76aec88633a9",
   "metadata": {},
   "outputs": [
    {
     "data": {
      "text/html": [
       "<div>\n",
       "<style scoped>\n",
       "    .dataframe tbody tr th:only-of-type {\n",
       "        vertical-align: middle;\n",
       "    }\n",
       "\n",
       "    .dataframe tbody tr th {\n",
       "        vertical-align: top;\n",
       "    }\n",
       "\n",
       "    .dataframe thead th {\n",
       "        text-align: right;\n",
       "    }\n",
       "</style>\n",
       "<table border=\"1\" class=\"dataframe\">\n",
       "  <thead>\n",
       "    <tr style=\"text-align: right;\">\n",
       "      <th></th>\n",
       "      <th>route</th>\n",
       "      <th>fine</th>\n",
       "      <th>coarse</th>\n",
       "      <th>tensor</th>\n",
       "    </tr>\n",
       "  </thead>\n",
       "  <tbody>\n",
       "    <tr>\n",
       "      <th>0</th>\n",
       "      <td>val/Fruit/Apple/Golden-Delicious/Golden-Delici...</td>\n",
       "      <td>0</td>\n",
       "      <td>0</td>\n",
       "      <td>(((tf.Tensor(0.44126683, shape=(), dtype=float...</td>\n",
       "    </tr>\n",
       "    <tr>\n",
       "      <th>1</th>\n",
       "      <td>val/Fruit/Apple/Golden-Delicious/Golden-Delici...</td>\n",
       "      <td>0</td>\n",
       "      <td>0</td>\n",
       "      <td>(((tf.Tensor(0.13513376, shape=(), dtype=float...</td>\n",
       "    </tr>\n",
       "    <tr>\n",
       "      <th>2</th>\n",
       "      <td>val/Fruit/Apple/Golden-Delicious/Golden-Delici...</td>\n",
       "      <td>0</td>\n",
       "      <td>0</td>\n",
       "      <td>(((tf.Tensor(0.15215617, shape=(), dtype=float...</td>\n",
       "    </tr>\n",
       "    <tr>\n",
       "      <th>3</th>\n",
       "      <td>val/Fruit/Apple/Golden-Delicious/Golden-Delici...</td>\n",
       "      <td>0</td>\n",
       "      <td>0</td>\n",
       "      <td>(((tf.Tensor(0.056168094, shape=(), dtype=floa...</td>\n",
       "    </tr>\n",
       "    <tr>\n",
       "      <th>4</th>\n",
       "      <td>val/Fruit/Apple/Golden-Delicious/Golden-Delici...</td>\n",
       "      <td>0</td>\n",
       "      <td>0</td>\n",
       "      <td>(((tf.Tensor(0.6362045, shape=(), dtype=float3...</td>\n",
       "    </tr>\n",
       "  </tbody>\n",
       "</table>\n",
       "</div>"
      ],
      "text/plain": [
       "                                               route  fine  coarse  \\\n",
       "0  val/Fruit/Apple/Golden-Delicious/Golden-Delici...     0       0   \n",
       "1  val/Fruit/Apple/Golden-Delicious/Golden-Delici...     0       0   \n",
       "2  val/Fruit/Apple/Golden-Delicious/Golden-Delici...     0       0   \n",
       "3  val/Fruit/Apple/Golden-Delicious/Golden-Delici...     0       0   \n",
       "4  val/Fruit/Apple/Golden-Delicious/Golden-Delici...     0       0   \n",
       "\n",
       "                                              tensor  \n",
       "0  (((tf.Tensor(0.44126683, shape=(), dtype=float...  \n",
       "1  (((tf.Tensor(0.13513376, shape=(), dtype=float...  \n",
       "2  (((tf.Tensor(0.15215617, shape=(), dtype=float...  \n",
       "3  (((tf.Tensor(0.056168094, shape=(), dtype=floa...  \n",
       "4  (((tf.Tensor(0.6362045, shape=(), dtype=float3...  "
      ]
     },
     "execution_count": 15,
     "metadata": {},
     "output_type": "execute_result"
    }
   ],
   "source": [
    "df_val[\"tensor\"] = df_val[\"route\"].apply(lambda x: resize_image(os.path.join(dataset_route, x)))\n",
    "df_val.head()"
   ]
  },
  {
   "cell_type": "code",
   "execution_count": 16,
   "id": "d4fce33f-639a-46ad-929b-684977d0a989",
   "metadata": {},
   "outputs": [
    {
     "data": {
      "text/html": [
       "<div>\n",
       "<style scoped>\n",
       "    .dataframe tbody tr th:only-of-type {\n",
       "        vertical-align: middle;\n",
       "    }\n",
       "\n",
       "    .dataframe tbody tr th {\n",
       "        vertical-align: top;\n",
       "    }\n",
       "\n",
       "    .dataframe thead th {\n",
       "        text-align: right;\n",
       "    }\n",
       "</style>\n",
       "<table border=\"1\" class=\"dataframe\">\n",
       "  <thead>\n",
       "    <tr style=\"text-align: right;\">\n",
       "      <th></th>\n",
       "      <th>route</th>\n",
       "      <th>fine</th>\n",
       "      <th>coarse</th>\n",
       "      <th>tensor</th>\n",
       "    </tr>\n",
       "  </thead>\n",
       "  <tbody>\n",
       "    <tr>\n",
       "      <th>0</th>\n",
       "      <td>test/Fruit/Apple/Golden-Delicious/Golden-Delic...</td>\n",
       "      <td>0</td>\n",
       "      <td>0</td>\n",
       "      <td>(((tf.Tensor(0.5455182, shape=(), dtype=float3...</td>\n",
       "    </tr>\n",
       "    <tr>\n",
       "      <th>1</th>\n",
       "      <td>test/Fruit/Apple/Golden-Delicious/Golden-Delic...</td>\n",
       "      <td>0</td>\n",
       "      <td>0</td>\n",
       "      <td>(((tf.Tensor(0.5507003, shape=(), dtype=float3...</td>\n",
       "    </tr>\n",
       "    <tr>\n",
       "      <th>2</th>\n",
       "      <td>test/Fruit/Apple/Golden-Delicious/Golden-Delic...</td>\n",
       "      <td>0</td>\n",
       "      <td>0</td>\n",
       "      <td>(((tf.Tensor(0.2863658, shape=(), dtype=float3...</td>\n",
       "    </tr>\n",
       "    <tr>\n",
       "      <th>3</th>\n",
       "      <td>test/Fruit/Apple/Golden-Delicious/Golden-Delic...</td>\n",
       "      <td>0</td>\n",
       "      <td>0</td>\n",
       "      <td>(((tf.Tensor(0.42406806, shape=(), dtype=float...</td>\n",
       "    </tr>\n",
       "    <tr>\n",
       "      <th>4</th>\n",
       "      <td>test/Fruit/Apple/Golden-Delicious/Golden-Delic...</td>\n",
       "      <td>0</td>\n",
       "      <td>0</td>\n",
       "      <td>(((tf.Tensor(0.29791948, shape=(), dtype=float...</td>\n",
       "    </tr>\n",
       "  </tbody>\n",
       "</table>\n",
       "</div>"
      ],
      "text/plain": [
       "                                               route  fine  coarse  \\\n",
       "0  test/Fruit/Apple/Golden-Delicious/Golden-Delic...     0       0   \n",
       "1  test/Fruit/Apple/Golden-Delicious/Golden-Delic...     0       0   \n",
       "2  test/Fruit/Apple/Golden-Delicious/Golden-Delic...     0       0   \n",
       "3  test/Fruit/Apple/Golden-Delicious/Golden-Delic...     0       0   \n",
       "4  test/Fruit/Apple/Golden-Delicious/Golden-Delic...     0       0   \n",
       "\n",
       "                                              tensor  \n",
       "0  (((tf.Tensor(0.5455182, shape=(), dtype=float3...  \n",
       "1  (((tf.Tensor(0.5507003, shape=(), dtype=float3...  \n",
       "2  (((tf.Tensor(0.2863658, shape=(), dtype=float3...  \n",
       "3  (((tf.Tensor(0.42406806, shape=(), dtype=float...  \n",
       "4  (((tf.Tensor(0.29791948, shape=(), dtype=float...  "
      ]
     },
     "execution_count": 16,
     "metadata": {},
     "output_type": "execute_result"
    }
   ],
   "source": [
    "df_test[\"tensor\"] = df_test[\"route\"].apply(lambda x: resize_image(os.path.join(dataset_route, x)))\n",
    "df_test.head()"
   ]
  },
  {
   "cell_type": "markdown",
   "id": "c4d28d35-91d1-46b1-8c27-641477266c5e",
   "metadata": {},
   "source": [
    "## Research the data - it is balanced?"
   ]
  },
  {
   "cell_type": "code",
   "execution_count": 26,
   "id": "5a59378c-869f-40a0-9eba-d1c17eb77bf9",
   "metadata": {},
   "outputs": [],
   "source": [
    "import matplotlib.pyplot as plt\n",
    "import pandas as pd\n",
    "\n",
    "def plot_fine_distribution(df):\n",
    "    if \"fine\" not in df.columns:\n",
    "        raise ValueError(\"El DataFrame no contiene la columna 'fine'\")\n",
    "    \n",
    "    value_counts = df[\"fine\"].value_counts()\n",
    "    \n",
    "    plt.figure(figsize=(14, 8))\n",
    "    value_counts.plot(kind=\"bar\", color=\"skyblue\")\n",
    "    plt.xlabel(\"Valores de 'fine'\")\n",
    "    plt.ylabel(\"Frecuencia\")\n",
    "    plt.title(\"Distribución de la columna 'fine'\")\n",
    "    plt.xticks(rotation=90, ha='right')\n",
    "    plt.grid(axis='y', linestyle='--', alpha=0.7)\n",
    "    plt.show()"
   ]
  },
  {
   "cell_type": "code",
   "execution_count": 25,
   "id": "97ddb287-ac72-4c9b-a49a-40e71f584820",
   "metadata": {},
   "outputs": [
    {
     "data": {
      "image/png": "[encoded data removed]",
      "text/plain": [
       "<Figure size 1400x800 with 1 Axes>"
      ]
     },
     "metadata": {},
     "output_type": "display_data"
    }
   ],
   "source": [
    "plot_fine_distribution(df)"
   ]
  },
  {
   "cell_type": "markdown",
   "id": "c54e8e38-7e79-4e36-935b-863c38f9b65f",
   "metadata": {},
   "source": [
    "No está balanceado ni mucho menos. Podemos borrar datos, o generar datos sintéticos. Optamos por la segunda opción."
   ]
  },
  {
   "cell_type": "code",
   "execution_count": null,
   "id": "e502f2a9-38a9-4f09-adf6-137043a0c2f8",
   "metadata": {},
   "outputs": [],
   "source": []
  },
  {
   "cell_type": "markdown",
   "id": "dbd4c770-5ec8-4683-b64b-f527e8532566",
   "metadata": {},
   "source": [
    "## ResNet-34 - overfitted asf\n",
    "\n",
    "No es útil porque hay demasiadas pocos datos. Y demasiadas capas. **El overfitting ocurre por cosas como estas**. Siempre, siempre, hay que buscar la cantidad de capas justa y necesaria (gasto y consumo computacional reducido aparte).\n",
    "\n",
    "Mejor probamos con **MobileNetV2**.\n",
    "\n",
    "[Link](https://www.analyticsvidhya.com/blog/2021/08/how-to-code-your-resnet-from-scratch-in-tensorflow/)"
   ]
  },
  {
   "cell_type": "code",
   "execution_count": 59,
   "id": "70f557a7-e0d2-4e05-b248-33afcff1b9bc",
   "metadata": {},
   "outputs": [
    {
     "data": {
      "text/plain": [
       "(2640, 224, 224, 3)"
      ]
     },
     "execution_count": 59,
     "metadata": {},
     "output_type": "execute_result"
    }
   ],
   "source": [
    "from tensorflow.keras.utils import to_categorical\n",
    "\n",
    "X_train = np.stack(df[\"tensor\"].values)\n",
    "y_train = np.array(df[\"fine\"].values)\n",
    "\n",
    "X_val = np.stack(df_val[\"tensor\"].values)\n",
    "y_val = np.array(df_val[\"fine\"].values)\n",
    "\n",
    "X_test = np.stack(df_test[\"tensor\"].values)\n",
    "y_test = np.array(df_test[\"fine\"].values)\n",
    "\n",
    "# Suponiendo que tienes las etiquetas como números enteros\n",
    "y_train = to_categorical(y_train, num_classes=81)\n",
    "y_val = to_categorical(y_val, num_classes=81)\n",
    "y_test = to_categorical(y_test, num_classes=81)\n",
    "\n",
    "X_train.shape"
   ]
  },
  {
   "cell_type": "code",
   "execution_count": 15,
   "id": "99cb3b5a-b847-449d-a544-85fe8f7909d2",
   "metadata": {},
   "outputs": [
    {
     "data": {
      "text/html": [
       "<pre style=\"white-space:pre;overflow-x:auto;line-height:normal;font-family:Menlo,'DejaVu Sans Mono',consolas,'Courier New',monospace\"><span style=\"font-weight: bold\">Model: \"sequential_3\"</span>\n",
       "</pre>\n"
      ],
      "text/plain": [
       "\u001b[1mModel: \"sequential_3\"\u001b[0m\n"
      ]
     },
     "metadata": {},
     "output_type": "display_data"
    },
    {
     "data": {
      "text/html": [
       "<pre style=\"white-space:pre;overflow-x:auto;line-height:normal;font-family:Menlo,'DejaVu Sans Mono',consolas,'Courier New',monospace\">┏━━━━━━━━━━━━━━━━━━━━━━━━━━━━━━━━━━━━━━┳━━━━━━━━━━━━━━━━━━━━━━━━━━━━━┳━━━━━━━━━━━━━━━━━┓\n",
       "┃<span style=\"font-weight: bold\"> Layer (type)                         </span>┃<span style=\"font-weight: bold\"> Output Shape                </span>┃<span style=\"font-weight: bold\">         Param # </span>┃\n",
       "┡━━━━━━━━━━━━━━━━━━━━━━━━━━━━━━━━━━━━━━╇━━━━━━━━━━━━━━━━━━━━━━━━━━━━━╇━━━━━━━━━━━━━━━━━┩\n",
       "│ vgg16 (<span style=\"color: #0087ff; text-decoration-color: #0087ff\">Functional</span>)                   │ (<span style=\"color: #00d7ff; text-decoration-color: #00d7ff\">None</span>, <span style=\"color: #00af00; text-decoration-color: #00af00\">7</span>, <span style=\"color: #00af00; text-decoration-color: #00af00\">7</span>, <span style=\"color: #00af00; text-decoration-color: #00af00\">512</span>)           │      <span style=\"color: #00af00; text-decoration-color: #00af00\">14,714,688</span> │\n",
       "├──────────────────────────────────────┼─────────────────────────────┼─────────────────┤\n",
       "│ flatten_3 (<span style=\"color: #0087ff; text-decoration-color: #0087ff\">Flatten</span>)                  │ (<span style=\"color: #00d7ff; text-decoration-color: #00d7ff\">None</span>, <span style=\"color: #00af00; text-decoration-color: #00af00\">25088</span>)               │               <span style=\"color: #00af00; text-decoration-color: #00af00\">0</span> │\n",
       "├──────────────────────────────────────┼─────────────────────────────┼─────────────────┤\n",
       "│ dense_6 (<span style=\"color: #0087ff; text-decoration-color: #0087ff\">Dense</span>)                      │ (<span style=\"color: #00d7ff; text-decoration-color: #00d7ff\">None</span>, <span style=\"color: #00af00; text-decoration-color: #00af00\">512</span>)                 │      <span style=\"color: #00af00; text-decoration-color: #00af00\">12,845,568</span> │\n",
       "├──────────────────────────────────────┼─────────────────────────────┼─────────────────┤\n",
       "│ dropout_3 (<span style=\"color: #0087ff; text-decoration-color: #0087ff\">Dropout</span>)                  │ (<span style=\"color: #00d7ff; text-decoration-color: #00d7ff\">None</span>, <span style=\"color: #00af00; text-decoration-color: #00af00\">512</span>)                 │               <span style=\"color: #00af00; text-decoration-color: #00af00\">0</span> │\n",
       "├──────────────────────────────────────┼─────────────────────────────┼─────────────────┤\n",
       "│ dense_7 (<span style=\"color: #0087ff; text-decoration-color: #0087ff\">Dense</span>)                      │ (<span style=\"color: #00d7ff; text-decoration-color: #00d7ff\">None</span>, <span style=\"color: #00af00; text-decoration-color: #00af00\">43</span>)                  │          <span style=\"color: #00af00; text-decoration-color: #00af00\">22,059</span> │\n",
       "└──────────────────────────────────────┴─────────────────────────────┴─────────────────┘\n",
       "</pre>\n"
      ],
      "text/plain": [
       "┏━━━━━━━━━━━━━━━━━━━━━━━━━━━━━━━━━━━━━━┳━━━━━━━━━━━━━━━━━━━━━━━━━━━━━┳━━━━━━━━━━━━━━━━━┓\n",
       "┃\u001b[1m \u001b[0m\u001b[1mLayer (type)                        \u001b[0m\u001b[1m \u001b[0m┃\u001b[1m \u001b[0m\u001b[1mOutput Shape               \u001b[0m\u001b[1m \u001b[0m┃\u001b[1m \u001b[0m\u001b[1m        Param #\u001b[0m\u001b[1m \u001b[0m┃\n",
       "┡━━━━━━━━━━━━━━━━━━━━━━━━━━━━━━━━━━━━━━╇━━━━━━━━━━━━━━━━━━━━━━━━━━━━━╇━━━━━━━━━━━━━━━━━┩\n",
       "│ vgg16 (\u001b[38;5;33mFunctional\u001b[0m)                   │ (\u001b[38;5;45mNone\u001b[0m, \u001b[38;5;34m7\u001b[0m, \u001b[38;5;34m7\u001b[0m, \u001b[38;5;34m512\u001b[0m)           │      \u001b[38;5;34m14,714,688\u001b[0m │\n",
       "├──────────────────────────────────────┼─────────────────────────────┼─────────────────┤\n",
       "│ flatten_3 (\u001b[38;5;33mFlatten\u001b[0m)                  │ (\u001b[38;5;45mNone\u001b[0m, \u001b[38;5;34m25088\u001b[0m)               │               \u001b[38;5;34m0\u001b[0m │\n",
       "├──────────────────────────────────────┼─────────────────────────────┼─────────────────┤\n",
       "│ dense_6 (\u001b[38;5;33mDense\u001b[0m)                      │ (\u001b[38;5;45mNone\u001b[0m, \u001b[38;5;34m512\u001b[0m)                 │      \u001b[38;5;34m12,845,568\u001b[0m │\n",
       "├──────────────────────────────────────┼─────────────────────────────┼─────────────────┤\n",
       "│ dropout_3 (\u001b[38;5;33mDropout\u001b[0m)                  │ (\u001b[38;5;45mNone\u001b[0m, \u001b[38;5;34m512\u001b[0m)                 │               \u001b[38;5;34m0\u001b[0m │\n",
       "├──────────────────────────────────────┼─────────────────────────────┼─────────────────┤\n",
       "│ dense_7 (\u001b[38;5;33mDense\u001b[0m)                      │ (\u001b[38;5;45mNone\u001b[0m, \u001b[38;5;34m43\u001b[0m)                  │          \u001b[38;5;34m22,059\u001b[0m │\n",
       "└──────────────────────────────────────┴─────────────────────────────┴─────────────────┘\n"
      ]
     },
     "metadata": {},
     "output_type": "display_data"
    },
    {
     "data": {
      "text/html": [
       "<pre style=\"white-space:pre;overflow-x:auto;line-height:normal;font-family:Menlo,'DejaVu Sans Mono',consolas,'Courier New',monospace\"><span style=\"font-weight: bold\"> Total params: </span><span style=\"color: #00af00; text-decoration-color: #00af00\">27,582,315</span> (105.22 MB)\n",
       "</pre>\n"
      ],
      "text/plain": [
       "\u001b[1m Total params: \u001b[0m\u001b[38;5;34m27,582,315\u001b[0m (105.22 MB)\n"
      ]
     },
     "metadata": {},
     "output_type": "display_data"
    },
    {
     "data": {
      "text/html": [
       "<pre style=\"white-space:pre;overflow-x:auto;line-height:normal;font-family:Menlo,'DejaVu Sans Mono',consolas,'Courier New',monospace\"><span style=\"font-weight: bold\"> Trainable params: </span><span style=\"color: #00af00; text-decoration-color: #00af00\">12,867,627</span> (49.09 MB)\n",
       "</pre>\n"
      ],
      "text/plain": [
       "\u001b[1m Trainable params: \u001b[0m\u001b[38;5;34m12,867,627\u001b[0m (49.09 MB)\n"
      ]
     },
     "metadata": {},
     "output_type": "display_data"
    },
    {
     "data": {
      "text/html": [
       "<pre style=\"white-space:pre;overflow-x:auto;line-height:normal;font-family:Menlo,'DejaVu Sans Mono',consolas,'Courier New',monospace\"><span style=\"font-weight: bold\"> Non-trainable params: </span><span style=\"color: #00af00; text-decoration-color: #00af00\">14,714,688</span> (56.13 MB)\n",
       "</pre>\n"
      ],
      "text/plain": [
       "\u001b[1m Non-trainable params: \u001b[0m\u001b[38;5;34m14,714,688\u001b[0m (56.13 MB)\n"
      ]
     },
     "metadata": {},
     "output_type": "display_data"
    }
   ],
   "source": [
    "from tensorflow.keras.applications import VGG16\n",
    "from tensorflow.keras import layers, models\n",
    "\n",
    "base_model = VGG16(input_shape=(224, 224, 3), include_top=False, weights='imagenet')\n",
    "base_model.trainable = False  # Congelar capas para evitar sobreajuste\n",
    "\n",
    "model = models.Sequential([\n",
    "    base_model,\n",
    "    layers.Flatten(),\n",
    "    layers.Dense(512, activation='relu'),\n",
    "    layers.Dropout(0.5),\n",
    "    layers.Dense(43, activation='softmax')\n",
    "])\n",
    "\n",
    "model.compile(\n",
    "    optimizer='adam',  # Optimizador recomendado\n",
    "    loss='categorical_crossentropy',  # Para clasificación multiclase\n",
    "    metrics=['accuracy']  # Para evaluar el rendimiento\n",
    ")\n",
    "\n",
    "model.summary()"
   ]
  },
  {
   "cell_type": "code",
   "execution_count": null,
   "id": "47ff7056-e6a8-4a41-8417-bb5fbb61a20f",
   "metadata": {},
   "outputs": [],
   "source": [
    "model.fit(X_train, y_train, epochs=10, batch_size=32, validation_data=(X_val, y_val)) overfitted asf"
   ]
  },
  {
   "cell_type": "code",
   "execution_count": 28,
   "id": "ef5644c3-4afa-4a1c-9b17-753123213bcd",
   "metadata": {},
   "outputs": [],
   "source": [
    "model.save('model.keras')  # Para Keras"
   ]
  }
 ],
 "metadata": {
  "kernelspec": {
   "display_name": "Python 3 (ipykernel)",
   "language": "python",
   "name": "python3"
  },
  "language_info": {
   "codemirror_mode": {
    "name": "ipython",
    "version": 3
   },
   "file_extension": ".py",
   "mimetype": "text/x-python",
   "name": "python",
   "nbconvert_exporter": "python",
   "pygments_lexer": "ipython3",
   "version": "3.11.11"
  }
 },
 "nbformat": 4,
 "nbformat_minor": 5
}
