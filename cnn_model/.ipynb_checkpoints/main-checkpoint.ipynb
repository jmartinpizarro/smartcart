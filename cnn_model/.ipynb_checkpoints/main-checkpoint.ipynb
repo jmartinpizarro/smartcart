{
 "cells": [
  {
   "cell_type": "code",
   "execution_count": 32,
   "id": "1e57d2ed-6f4a-4477-9be9-c36cbd9d9dbf",
   "metadata": {},
   "outputs": [],
   "source": [
    "import pandas as pd\n",
    "import numpy as np\n",
    "import tensorflow as tf\n",
    "import matplotlib.pyplot as plt\n",
    "\n",
    "import os\n",
    "from pathlib import Path"
   ]
  },
  {
   "cell_type": "markdown",
   "id": "4e0e49ee-6900-4fb0-ba22-da2d0a91d55d",
   "metadata": {},
   "source": [
    "## Preprocessing the dataset\n",
    "\n",
    "Images need to go to a df, then convert the RGB channels into pixels."
   ]
  },
  {
   "cell_type": "code",
   "execution_count": 33,
   "id": "e585729a-a132-436f-8dd2-e22db98c3cf4",
   "metadata": {},
   "outputs": [],
   "source": [
    "dataset_route = \"../GroceryStoreDataset/dataset/\"\n",
    "train_txt_route = \"../GroceryStoreDataset/dataset/train.txt\"\n",
    "val_txt_route = \"../GroceryStoreDataset/dataset/val.txt\"\n",
    "test_txt_route = \"../GroceryStoreDataset/dataset/test.txt\""
   ]
  },
  {
   "cell_type": "code",
   "execution_count": 34,
   "id": "be13dd9e-149b-43c8-b18d-c4954bc8aef9",
   "metadata": {},
   "outputs": [],
   "source": [
    "def process_txt(route):\n",
    "    df = pd.read_csv(route, sep=\",\",header=None,names=[\"route\", \"fine\", \"coarse\", 'tensor'])\n",
    "    return df"
   ]
  },
  {
   "cell_type": "code",
   "execution_count": 35,
   "id": "95fdb1ab-9b29-479f-87fb-2d530d51bf1f",
   "metadata": {},
   "outputs": [
    {
     "data": {
      "text/html": [
       "<div>\n",
       "<style scoped>\n",
       "    .dataframe tbody tr th:only-of-type {\n",
       "        vertical-align: middle;\n",
       "    }\n",
       "\n",
       "    .dataframe tbody tr th {\n",
       "        vertical-align: top;\n",
       "    }\n",
       "\n",
       "    .dataframe thead th {\n",
       "        text-align: right;\n",
       "    }\n",
       "</style>\n",
       "<table border=\"1\" class=\"dataframe\">\n",
       "  <thead>\n",
       "    <tr style=\"text-align: right;\">\n",
       "      <th></th>\n",
       "      <th>route</th>\n",
       "      <th>fine</th>\n",
       "      <th>coarse</th>\n",
       "      <th>tensor</th>\n",
       "    </tr>\n",
       "  </thead>\n",
       "  <tbody>\n",
       "    <tr>\n",
       "      <th>0</th>\n",
       "      <td>train/Fruit/Apple/Golden-Delicious/Golden-Deli...</td>\n",
       "      <td>0</td>\n",
       "      <td>0</td>\n",
       "      <td>NaN</td>\n",
       "    </tr>\n",
       "    <tr>\n",
       "      <th>1</th>\n",
       "      <td>train/Fruit/Apple/Golden-Delicious/Golden-Deli...</td>\n",
       "      <td>0</td>\n",
       "      <td>0</td>\n",
       "      <td>NaN</td>\n",
       "    </tr>\n",
       "    <tr>\n",
       "      <th>2</th>\n",
       "      <td>train/Fruit/Apple/Golden-Delicious/Golden-Deli...</td>\n",
       "      <td>0</td>\n",
       "      <td>0</td>\n",
       "      <td>NaN</td>\n",
       "    </tr>\n",
       "    <tr>\n",
       "      <th>3</th>\n",
       "      <td>train/Fruit/Apple/Golden-Delicious/Golden-Deli...</td>\n",
       "      <td>0</td>\n",
       "      <td>0</td>\n",
       "      <td>NaN</td>\n",
       "    </tr>\n",
       "    <tr>\n",
       "      <th>4</th>\n",
       "      <td>train/Fruit/Apple/Golden-Delicious/Golden-Deli...</td>\n",
       "      <td>0</td>\n",
       "      <td>0</td>\n",
       "      <td>NaN</td>\n",
       "    </tr>\n",
       "  </tbody>\n",
       "</table>\n",
       "</div>"
      ],
      "text/plain": [
       "                                               route  fine  coarse  tensor\n",
       "0  train/Fruit/Apple/Golden-Delicious/Golden-Deli...     0       0     NaN\n",
       "1  train/Fruit/Apple/Golden-Delicious/Golden-Deli...     0       0     NaN\n",
       "2  train/Fruit/Apple/Golden-Delicious/Golden-Deli...     0       0     NaN\n",
       "3  train/Fruit/Apple/Golden-Delicious/Golden-Deli...     0       0     NaN\n",
       "4  train/Fruit/Apple/Golden-Delicious/Golden-Deli...     0       0     NaN"
      ]
     },
     "execution_count": 35,
     "metadata": {},
     "output_type": "execute_result"
    }
   ],
   "source": [
    "df = process_txt(train_txt_route)\n",
    "df.head()"
   ]
  },
  {
   "cell_type": "code",
   "execution_count": 36,
   "id": "2c7efba4-1391-494a-853b-1a81346c18b3",
   "metadata": {},
   "outputs": [
    {
     "data": {
      "text/plain": [
       "(2640, 4)"
      ]
     },
     "execution_count": 36,
     "metadata": {},
     "output_type": "execute_result"
    }
   ],
   "source": [
    "df.shape"
   ]
  },
  {
   "cell_type": "code",
   "execution_count": 37,
   "id": "24ce55e1-b3c6-48c5-a905-f7aba325250c",
   "metadata": {},
   "outputs": [
    {
     "data": {
      "text/html": [
       "<div>\n",
       "<style scoped>\n",
       "    .dataframe tbody tr th:only-of-type {\n",
       "        vertical-align: middle;\n",
       "    }\n",
       "\n",
       "    .dataframe tbody tr th {\n",
       "        vertical-align: top;\n",
       "    }\n",
       "\n",
       "    .dataframe thead th {\n",
       "        text-align: right;\n",
       "    }\n",
       "</style>\n",
       "<table border=\"1\" class=\"dataframe\">\n",
       "  <thead>\n",
       "    <tr style=\"text-align: right;\">\n",
       "      <th></th>\n",
       "      <th>route</th>\n",
       "      <th>fine</th>\n",
       "      <th>coarse</th>\n",
       "      <th>tensor</th>\n",
       "    </tr>\n",
       "  </thead>\n",
       "  <tbody>\n",
       "    <tr>\n",
       "      <th>0</th>\n",
       "      <td>val/Fruit/Apple/Golden-Delicious/Golden-Delici...</td>\n",
       "      <td>0</td>\n",
       "      <td>0</td>\n",
       "      <td>NaN</td>\n",
       "    </tr>\n",
       "    <tr>\n",
       "      <th>1</th>\n",
       "      <td>val/Fruit/Apple/Golden-Delicious/Golden-Delici...</td>\n",
       "      <td>0</td>\n",
       "      <td>0</td>\n",
       "      <td>NaN</td>\n",
       "    </tr>\n",
       "    <tr>\n",
       "      <th>2</th>\n",
       "      <td>val/Fruit/Apple/Golden-Delicious/Golden-Delici...</td>\n",
       "      <td>0</td>\n",
       "      <td>0</td>\n",
       "      <td>NaN</td>\n",
       "    </tr>\n",
       "    <tr>\n",
       "      <th>3</th>\n",
       "      <td>val/Fruit/Apple/Golden-Delicious/Golden-Delici...</td>\n",
       "      <td>0</td>\n",
       "      <td>0</td>\n",
       "      <td>NaN</td>\n",
       "    </tr>\n",
       "    <tr>\n",
       "      <th>4</th>\n",
       "      <td>val/Fruit/Apple/Golden-Delicious/Golden-Delici...</td>\n",
       "      <td>0</td>\n",
       "      <td>0</td>\n",
       "      <td>NaN</td>\n",
       "    </tr>\n",
       "  </tbody>\n",
       "</table>\n",
       "</div>"
      ],
      "text/plain": [
       "                                               route  fine  coarse  tensor\n",
       "0  val/Fruit/Apple/Golden-Delicious/Golden-Delici...     0       0     NaN\n",
       "1  val/Fruit/Apple/Golden-Delicious/Golden-Delici...     0       0     NaN\n",
       "2  val/Fruit/Apple/Golden-Delicious/Golden-Delici...     0       0     NaN\n",
       "3  val/Fruit/Apple/Golden-Delicious/Golden-Delici...     0       0     NaN\n",
       "4  val/Fruit/Apple/Golden-Delicious/Golden-Delici...     0       0     NaN"
      ]
     },
     "execution_count": 37,
     "metadata": {},
     "output_type": "execute_result"
    }
   ],
   "source": [
    "df_val = process_txt(val_txt_route)\n",
    "df_val.head()"
   ]
  },
  {
   "cell_type": "code",
   "execution_count": 38,
   "id": "909640e9-baf5-471b-a9ea-b4ae1f8c1351",
   "metadata": {},
   "outputs": [
    {
     "data": {
      "text/html": [
       "<div>\n",
       "<style scoped>\n",
       "    .dataframe tbody tr th:only-of-type {\n",
       "        vertical-align: middle;\n",
       "    }\n",
       "\n",
       "    .dataframe tbody tr th {\n",
       "        vertical-align: top;\n",
       "    }\n",
       "\n",
       "    .dataframe thead th {\n",
       "        text-align: right;\n",
       "    }\n",
       "</style>\n",
       "<table border=\"1\" class=\"dataframe\">\n",
       "  <thead>\n",
       "    <tr style=\"text-align: right;\">\n",
       "      <th></th>\n",
       "      <th>route</th>\n",
       "      <th>fine</th>\n",
       "      <th>coarse</th>\n",
       "      <th>tensor</th>\n",
       "    </tr>\n",
       "  </thead>\n",
       "  <tbody>\n",
       "    <tr>\n",
       "      <th>0</th>\n",
       "      <td>test/Fruit/Apple/Golden-Delicious/Golden-Delic...</td>\n",
       "      <td>0</td>\n",
       "      <td>0</td>\n",
       "      <td>NaN</td>\n",
       "    </tr>\n",
       "    <tr>\n",
       "      <th>1</th>\n",
       "      <td>test/Fruit/Apple/Golden-Delicious/Golden-Delic...</td>\n",
       "      <td>0</td>\n",
       "      <td>0</td>\n",
       "      <td>NaN</td>\n",
       "    </tr>\n",
       "    <tr>\n",
       "      <th>2</th>\n",
       "      <td>test/Fruit/Apple/Golden-Delicious/Golden-Delic...</td>\n",
       "      <td>0</td>\n",
       "      <td>0</td>\n",
       "      <td>NaN</td>\n",
       "    </tr>\n",
       "    <tr>\n",
       "      <th>3</th>\n",
       "      <td>test/Fruit/Apple/Golden-Delicious/Golden-Delic...</td>\n",
       "      <td>0</td>\n",
       "      <td>0</td>\n",
       "      <td>NaN</td>\n",
       "    </tr>\n",
       "    <tr>\n",
       "      <th>4</th>\n",
       "      <td>test/Fruit/Apple/Golden-Delicious/Golden-Delic...</td>\n",
       "      <td>0</td>\n",
       "      <td>0</td>\n",
       "      <td>NaN</td>\n",
       "    </tr>\n",
       "  </tbody>\n",
       "</table>\n",
       "</div>"
      ],
      "text/plain": [
       "                                               route  fine  coarse  tensor\n",
       "0  test/Fruit/Apple/Golden-Delicious/Golden-Delic...     0       0     NaN\n",
       "1  test/Fruit/Apple/Golden-Delicious/Golden-Delic...     0       0     NaN\n",
       "2  test/Fruit/Apple/Golden-Delicious/Golden-Delic...     0       0     NaN\n",
       "3  test/Fruit/Apple/Golden-Delicious/Golden-Delic...     0       0     NaN\n",
       "4  test/Fruit/Apple/Golden-Delicious/Golden-Delic...     0       0     NaN"
      ]
     },
     "execution_count": 38,
     "metadata": {},
     "output_type": "execute_result"
    }
   ],
   "source": [
    "df_test = process_txt(test_txt_route)\n",
    "df_test.head()"
   ]
  },
  {
   "cell_type": "markdown",
   "id": "e1752edf-fe67-4a0e-b0b0-6ff061de766c",
   "metadata": {},
   "source": [
    "## From images to pixels\n",
    "\n",
    "ResNet CNN uses a 224x224 pixels. Then, we must:\n",
    "\n",
    "1. resize the images\n",
    "2. convert them into a processable data for the cnn"
   ]
  },
  {
   "cell_type": "code",
   "execution_count": 39,
   "id": "1544823d-eab9-45da-98bd-dcb8ce27fff5",
   "metadata": {},
   "outputs": [],
   "source": [
    "def resize_image(route, size=(224,224)):\n",
    "    img = tf.io.read_file(route)\n",
    "    img = tf.image.decode_jpeg(img, channels=3)\n",
    "    img_resized = tf.image.resize(img, [224, 224])\n",
    "    img_normalised = img_resized / 255.0 # normalise data to improve performance and acc\n",
    "    return img_normalised"
   ]
  },
  {
   "cell_type": "code",
   "execution_count": 40,
   "id": "5eb390c7-94d2-4f11-a932-d772ca8d39b6",
   "metadata": {},
   "outputs": [
    {
     "data": {
      "text/html": [
       "<div>\n",
       "<style scoped>\n",
       "    .dataframe tbody tr th:only-of-type {\n",
       "        vertical-align: middle;\n",
       "    }\n",
       "\n",
       "    .dataframe tbody tr th {\n",
       "        vertical-align: top;\n",
       "    }\n",
       "\n",
       "    .dataframe thead th {\n",
       "        text-align: right;\n",
       "    }\n",
       "</style>\n",
       "<table border=\"1\" class=\"dataframe\">\n",
       "  <thead>\n",
       "    <tr style=\"text-align: right;\">\n",
       "      <th></th>\n",
       "      <th>route</th>\n",
       "      <th>fine</th>\n",
       "      <th>coarse</th>\n",
       "      <th>tensor</th>\n",
       "    </tr>\n",
       "  </thead>\n",
       "  <tbody>\n",
       "    <tr>\n",
       "      <th>0</th>\n",
       "      <td>train/Fruit/Apple/Golden-Delicious/Golden-Deli...</td>\n",
       "      <td>0</td>\n",
       "      <td>0</td>\n",
       "      <td>(((tf.Tensor(0.07058824, shape=(), dtype=float...</td>\n",
       "    </tr>\n",
       "    <tr>\n",
       "      <th>1</th>\n",
       "      <td>train/Fruit/Apple/Golden-Delicious/Golden-Deli...</td>\n",
       "      <td>0</td>\n",
       "      <td>0</td>\n",
       "      <td>(((tf.Tensor(0.5783479, shape=(), dtype=float3...</td>\n",
       "    </tr>\n",
       "    <tr>\n",
       "      <th>2</th>\n",
       "      <td>train/Fruit/Apple/Golden-Delicious/Golden-Deli...</td>\n",
       "      <td>0</td>\n",
       "      <td>0</td>\n",
       "      <td>(((tf.Tensor(0.34684873, shape=(), dtype=float...</td>\n",
       "    </tr>\n",
       "    <tr>\n",
       "      <th>3</th>\n",
       "      <td>train/Fruit/Apple/Golden-Delicious/Golden-Deli...</td>\n",
       "      <td>0</td>\n",
       "      <td>0</td>\n",
       "      <td>(((tf.Tensor(0.74612814, shape=(), dtype=float...</td>\n",
       "    </tr>\n",
       "    <tr>\n",
       "      <th>4</th>\n",
       "      <td>train/Fruit/Apple/Golden-Delicious/Golden-Deli...</td>\n",
       "      <td>0</td>\n",
       "      <td>0</td>\n",
       "      <td>(((tf.Tensor(0.394208, shape=(), dtype=float32...</td>\n",
       "    </tr>\n",
       "  </tbody>\n",
       "</table>\n",
       "</div>"
      ],
      "text/plain": [
       "                                               route  fine  coarse  \\\n",
       "0  train/Fruit/Apple/Golden-Delicious/Golden-Deli...     0       0   \n",
       "1  train/Fruit/Apple/Golden-Delicious/Golden-Deli...     0       0   \n",
       "2  train/Fruit/Apple/Golden-Delicious/Golden-Deli...     0       0   \n",
       "3  train/Fruit/Apple/Golden-Delicious/Golden-Deli...     0       0   \n",
       "4  train/Fruit/Apple/Golden-Delicious/Golden-Deli...     0       0   \n",
       "\n",
       "                                              tensor  \n",
       "0  (((tf.Tensor(0.07058824, shape=(), dtype=float...  \n",
       "1  (((tf.Tensor(0.5783479, shape=(), dtype=float3...  \n",
       "2  (((tf.Tensor(0.34684873, shape=(), dtype=float...  \n",
       "3  (((tf.Tensor(0.74612814, shape=(), dtype=float...  \n",
       "4  (((tf.Tensor(0.394208, shape=(), dtype=float32...  "
      ]
     },
     "execution_count": 40,
     "metadata": {},
     "output_type": "execute_result"
    }
   ],
   "source": [
    "df[\"tensor\"] = df[\"route\"].apply(lambda x: resize_image(os.path.join(dataset_route, x)))\n",
    "df.head()"
   ]
  },
  {
   "cell_type": "code",
   "execution_count": 41,
   "id": "7229139e-2e02-4404-a7ac-76aec88633a9",
   "metadata": {},
   "outputs": [
    {
     "data": {
      "text/html": [
       "<div>\n",
       "<style scoped>\n",
       "    .dataframe tbody tr th:only-of-type {\n",
       "        vertical-align: middle;\n",
       "    }\n",
       "\n",
       "    .dataframe tbody tr th {\n",
       "        vertical-align: top;\n",
       "    }\n",
       "\n",
       "    .dataframe thead th {\n",
       "        text-align: right;\n",
       "    }\n",
       "</style>\n",
       "<table border=\"1\" class=\"dataframe\">\n",
       "  <thead>\n",
       "    <tr style=\"text-align: right;\">\n",
       "      <th></th>\n",
       "      <th>route</th>\n",
       "      <th>fine</th>\n",
       "      <th>coarse</th>\n",
       "      <th>tensor</th>\n",
       "    </tr>\n",
       "  </thead>\n",
       "  <tbody>\n",
       "    <tr>\n",
       "      <th>0</th>\n",
       "      <td>val/Fruit/Apple/Golden-Delicious/Golden-Delici...</td>\n",
       "      <td>0</td>\n",
       "      <td>0</td>\n",
       "      <td>(((tf.Tensor(0.44126683, shape=(), dtype=float...</td>\n",
       "    </tr>\n",
       "    <tr>\n",
       "      <th>1</th>\n",
       "      <td>val/Fruit/Apple/Golden-Delicious/Golden-Delici...</td>\n",
       "      <td>0</td>\n",
       "      <td>0</td>\n",
       "      <td>(((tf.Tensor(0.13513376, shape=(), dtype=float...</td>\n",
       "    </tr>\n",
       "    <tr>\n",
       "      <th>2</th>\n",
       "      <td>val/Fruit/Apple/Golden-Delicious/Golden-Delici...</td>\n",
       "      <td>0</td>\n",
       "      <td>0</td>\n",
       "      <td>(((tf.Tensor(0.15215617, shape=(), dtype=float...</td>\n",
       "    </tr>\n",
       "    <tr>\n",
       "      <th>3</th>\n",
       "      <td>val/Fruit/Apple/Golden-Delicious/Golden-Delici...</td>\n",
       "      <td>0</td>\n",
       "      <td>0</td>\n",
       "      <td>(((tf.Tensor(0.056168094, shape=(), dtype=floa...</td>\n",
       "    </tr>\n",
       "    <tr>\n",
       "      <th>4</th>\n",
       "      <td>val/Fruit/Apple/Golden-Delicious/Golden-Delici...</td>\n",
       "      <td>0</td>\n",
       "      <td>0</td>\n",
       "      <td>(((tf.Tensor(0.6362045, shape=(), dtype=float3...</td>\n",
       "    </tr>\n",
       "  </tbody>\n",
       "</table>\n",
       "</div>"
      ],
      "text/plain": [
       "                                               route  fine  coarse  \\\n",
       "0  val/Fruit/Apple/Golden-Delicious/Golden-Delici...     0       0   \n",
       "1  val/Fruit/Apple/Golden-Delicious/Golden-Delici...     0       0   \n",
       "2  val/Fruit/Apple/Golden-Delicious/Golden-Delici...     0       0   \n",
       "3  val/Fruit/Apple/Golden-Delicious/Golden-Delici...     0       0   \n",
       "4  val/Fruit/Apple/Golden-Delicious/Golden-Delici...     0       0   \n",
       "\n",
       "                                              tensor  \n",
       "0  (((tf.Tensor(0.44126683, shape=(), dtype=float...  \n",
       "1  (((tf.Tensor(0.13513376, shape=(), dtype=float...  \n",
       "2  (((tf.Tensor(0.15215617, shape=(), dtype=float...  \n",
       "3  (((tf.Tensor(0.056168094, shape=(), dtype=floa...  \n",
       "4  (((tf.Tensor(0.6362045, shape=(), dtype=float3...  "
      ]
     },
     "execution_count": 41,
     "metadata": {},
     "output_type": "execute_result"
    }
   ],
   "source": [
    "df_val[\"tensor\"] = df_val[\"route\"].apply(lambda x: resize_image(os.path.join(dataset_route, x)))\n",
    "df_val.head()"
   ]
  },
  {
   "cell_type": "code",
   "execution_count": 42,
   "id": "d4fce33f-639a-46ad-929b-684977d0a989",
   "metadata": {},
   "outputs": [
    {
     "data": {
      "text/html": [
       "<div>\n",
       "<style scoped>\n",
       "    .dataframe tbody tr th:only-of-type {\n",
       "        vertical-align: middle;\n",
       "    }\n",
       "\n",
       "    .dataframe tbody tr th {\n",
       "        vertical-align: top;\n",
       "    }\n",
       "\n",
       "    .dataframe thead th {\n",
       "        text-align: right;\n",
       "    }\n",
       "</style>\n",
       "<table border=\"1\" class=\"dataframe\">\n",
       "  <thead>\n",
       "    <tr style=\"text-align: right;\">\n",
       "      <th></th>\n",
       "      <th>route</th>\n",
       "      <th>fine</th>\n",
       "      <th>coarse</th>\n",
       "      <th>tensor</th>\n",
       "    </tr>\n",
       "  </thead>\n",
       "  <tbody>\n",
       "    <tr>\n",
       "      <th>0</th>\n",
       "      <td>test/Fruit/Apple/Golden-Delicious/Golden-Delic...</td>\n",
       "      <td>0</td>\n",
       "      <td>0</td>\n",
       "      <td>(((tf.Tensor(0.5455182, shape=(), dtype=float3...</td>\n",
       "    </tr>\n",
       "    <tr>\n",
       "      <th>1</th>\n",
       "      <td>test/Fruit/Apple/Golden-Delicious/Golden-Delic...</td>\n",
       "      <td>0</td>\n",
       "      <td>0</td>\n",
       "      <td>(((tf.Tensor(0.5507003, shape=(), dtype=float3...</td>\n",
       "    </tr>\n",
       "    <tr>\n",
       "      <th>2</th>\n",
       "      <td>test/Fruit/Apple/Golden-Delicious/Golden-Delic...</td>\n",
       "      <td>0</td>\n",
       "      <td>0</td>\n",
       "      <td>(((tf.Tensor(0.2863658, shape=(), dtype=float3...</td>\n",
       "    </tr>\n",
       "    <tr>\n",
       "      <th>3</th>\n",
       "      <td>test/Fruit/Apple/Golden-Delicious/Golden-Delic...</td>\n",
       "      <td>0</td>\n",
       "      <td>0</td>\n",
       "      <td>(((tf.Tensor(0.42406806, shape=(), dtype=float...</td>\n",
       "    </tr>\n",
       "    <tr>\n",
       "      <th>4</th>\n",
       "      <td>test/Fruit/Apple/Golden-Delicious/Golden-Delic...</td>\n",
       "      <td>0</td>\n",
       "      <td>0</td>\n",
       "      <td>(((tf.Tensor(0.29791948, shape=(), dtype=float...</td>\n",
       "    </tr>\n",
       "  </tbody>\n",
       "</table>\n",
       "</div>"
      ],
      "text/plain": [
       "                                               route  fine  coarse  \\\n",
       "0  test/Fruit/Apple/Golden-Delicious/Golden-Delic...     0       0   \n",
       "1  test/Fruit/Apple/Golden-Delicious/Golden-Delic...     0       0   \n",
       "2  test/Fruit/Apple/Golden-Delicious/Golden-Delic...     0       0   \n",
       "3  test/Fruit/Apple/Golden-Delicious/Golden-Delic...     0       0   \n",
       "4  test/Fruit/Apple/Golden-Delicious/Golden-Delic...     0       0   \n",
       "\n",
       "                                              tensor  \n",
       "0  (((tf.Tensor(0.5455182, shape=(), dtype=float3...  \n",
       "1  (((tf.Tensor(0.5507003, shape=(), dtype=float3...  \n",
       "2  (((tf.Tensor(0.2863658, shape=(), dtype=float3...  \n",
       "3  (((tf.Tensor(0.42406806, shape=(), dtype=float...  \n",
       "4  (((tf.Tensor(0.29791948, shape=(), dtype=float...  "
      ]
     },
     "execution_count": 42,
     "metadata": {},
     "output_type": "execute_result"
    }
   ],
   "source": [
    "df_test[\"tensor\"] = df_test[\"route\"].apply(lambda x: resize_image(os.path.join(dataset_route, x)))\n",
    "df_test.head()"
   ]
  },
  {
   "cell_type": "markdown",
   "id": "c4d28d35-91d1-46b1-8c27-641477266c5e",
   "metadata": {},
   "source": [
    "## Research the data - it is balanced?"
   ]
  },
  {
   "cell_type": "code",
   "execution_count": 43,
   "id": "5a59378c-869f-40a0-9eba-d1c17eb77bf9",
   "metadata": {},
   "outputs": [],
   "source": [
    "import matplotlib.pyplot as plt\n",
    "import pandas as pd\n",
    "\n",
    "def plot_fine_distribution(df):\n",
    "    if \"fine\" not in df.columns:\n",
    "        raise ValueError(\"El DataFrame no contiene la columna 'fine'\")\n",
    "    \n",
    "    value_counts = df[\"coarse\"].value_counts()\n",
    "    \n",
    "    plt.figure(figsize=(14, 8))\n",
    "    value_counts.plot(kind=\"bar\", color=\"skyblue\")\n",
    "    plt.xlabel(\"Valores de 'coarse'\")\n",
    "    plt.ylabel(\"Frecuencia\")\n",
    "    plt.title(\"Distribución de la columna 'coarse'\")\n",
    "    plt.xticks(rotation=90, ha='right')\n",
    "    plt.grid(axis='y', linestyle='--', alpha=0.7)\n",
    "    plt.show()"
   ]
  },
  {
   "cell_type": "code",
   "execution_count": 44,
   "id": "97ddb287-ac72-4c9b-a49a-40e71f584820",
   "metadata": {},
   "outputs": [
    {
     "data": {
      "image/png": "[encoded data removed]",
      "text/plain": [
       "<Figure size 1400x800 with 1 Axes>"
      ]
     },
     "metadata": {},
     "output_type": "display_data"
    }
   ],
   "source": [
    "plot_fine_distribution(df)"
   ]
  },
  {
   "cell_type": "markdown",
   "id": "c54e8e38-7e79-4e36-935b-863c38f9b65f",
   "metadata": {},
   "source": [
    "No está balanceado ni mucho menos. Podemos borrar datos, o generar datos sintéticos. Optamos por la segunda opción."
   ]
  },
  {
   "cell_type": "code",
   "execution_count": 60,
   "id": "94472b2d-9f24-4c3a-b45d-8ca8c1503ff7",
   "metadata": {},
   "outputs": [
    {
     "name": "stdout",
     "output_type": "stream",
     "text": [
      "(1710, 4)\n"
     ]
    }
   ],
   "source": [
    "class_counts = df['coarse'].value_counts()\n",
    "valid_classes = class_counts[class_counts >= 50].index\n",
    "filtered_df = df[df['coarse'].isin(valid_classes)]\n",
    "print(filtered_df.shape)"
   ]
  },
  {
   "cell_type": "code",
   "execution_count": 77,
   "id": "85c2c4d3-1d5a-4d56-9376-db412cc2a8a9",
   "metadata": {},
   "outputs": [
    {
     "data": {
      "image/png": "[encoded data removed]",
      "text/plain": [
       "<Figure size 1400x800 with 1 Axes>"
      ]
     },
     "metadata": {},
     "output_type": "display_data"
    },
    {
     "name": "stdout",
     "output_type": "stream",
     "text": [
      "13\n",
      "coarse\n",
      "0     278\n",
      "19    247\n",
      "20    182\n",
      "27    181\n",
      "7     154\n",
      "41    127\n",
      "13    116\n",
      "38    112\n",
      "39     75\n",
      "18     70\n",
      "26     60\n",
      "9      57\n",
      "25     51\n",
      "Name: count, dtype: int64\n"
     ]
    }
   ],
   "source": [
    "plot_fine_distribution(filtered_df)\n",
    "print(len(filtered_df['coarse'].value_counts()))\n",
    "print(filtered_df['coarse'].value_counts())"
   ]
  },
  {
   "cell_type": "code",
   "execution_count": 69,
   "id": "16513562-b838-40e9-917e-e74007758ecf",
   "metadata": {},
   "outputs": [
    {
     "name": "stdout",
     "output_type": "stream",
     "text": [
      "(175, 4)\n",
      "(1601, 4)\n",
      "12\n",
      "13\n"
     ]
    }
   ],
   "source": [
    "# Obtener las clases presentes en df (aquellas con más de 50 instancias)\n",
    "valid_classes = class_counts[class_counts >= 50].index\n",
    "\n",
    "# Filtrar df_val y df_test para que solo contengan las clases presentes en df\n",
    "df_val_filtered = df_val[df_val['coarse'].isin(valid_classes)]\n",
    "df_test_filtered = df_test[df_test['coarse'].isin(valid_classes)]\n",
    "\n",
    "# Verificar el tamaño de los DataFrames filtrados\n",
    "print(df_val_filtered.shape)\n",
    "print(df_test_filtered.shape)\n",
    "print(len(df_val_filtered['coarse'].value_counts()))\n",
    "print(len(df_test_filtered['coarse'].value_counts()))"
   ]
  },
  {
   "cell_type": "markdown",
   "id": "dbd4c770-5ec8-4683-b64b-f527e8532566",
   "metadata": {},
   "source": [
    "## ResNet-34 - overfitted asf\n",
    "\n",
    "No es útil porque hay demasiadas pocos datos. Y demasiadas capas. **El overfitting ocurre por cosas como estas**. Siempre, siempre, hay que buscar la cantidad de capas justa y necesaria (gasto y consumo computacional reducido aparte).\n",
    "\n",
    "Mejor probamos con **MobileNetV2**.\n",
    "\n",
    "[Link](https://www.analyticsvidhya.com/blog/2021/08/how-to-code-your-resnet-from-scratch-in-tensorflow/)"
   ]
  },
  {
   "cell_type": "code",
   "execution_count": 72,
   "id": "70f557a7-e0d2-4e05-b248-33afcff1b9bc",
   "metadata": {},
   "outputs": [
    {
     "name": "stdout",
     "output_type": "stream",
     "text": [
      "(1710, 224, 224, 3)\n",
      "(175, 224, 224, 3)\n",
      "(1601, 224, 224, 3)\n"
     ]
    }
   ],
   "source": [
    "from tensorflow.keras.utils import to_categorical\n",
    "import numpy as np\n",
    "\n",
    "# Asegurándote de que las clases estén en el rango correcto (0 a 11)\n",
    "y_train = np.array(filtered_df[\"coarse\"].values)\n",
    "y_val = np.array(df_val_filtered[\"coarse\"].values)\n",
    "y_test = np.array(df_test_filtered[\"coarse\"].values)\n",
    "\n",
    "# Asegúrate de que las etiquetas estén en el rango 0 a 11 (num_classes=12)\n",
    "y_train = np.clip(y_train, 0, 12)\n",
    "y_val = np.clip(y_val, 0, 12)\n",
    "y_test = np.clip(y_test, 0, 12)\n",
    "\n",
    "# Convertir las clases a formato one-hot (categórico)\n",
    "y_train = to_categorical(y_train, num_classes=13)\n",
    "y_val = to_categorical(y_val, num_classes=13)\n",
    "y_test = to_categorical(y_test, num_classes=13)\n",
    "\n",
    "# Preparar las características de entrada\n",
    "X_train = np.stack(filtered_df[\"tensor\"].values)\n",
    "X_val = np.stack(df_val_filtered[\"tensor\"].values)\n",
    "X_test = np.stack(df_test_filtered[\"tensor\"].values)\n",
    "\n",
    "# Verifica la forma de las entradas\n",
    "print(X_train.shape)\n",
    "print(X_val.shape)\n",
    "print(X_test.shape)\n"
   ]
  },
  {
   "cell_type": "code",
   "execution_count": 74,
   "id": "99cb3b5a-b847-449d-a544-85fe8f7909d2",
   "metadata": {},
   "outputs": [
    {
     "data": {
      "text/html": [
       "<pre style=\"white-space:pre;overflow-x:auto;line-height:normal;font-family:Menlo,'DejaVu Sans Mono',consolas,'Courier New',monospace\"><span style=\"font-weight: bold\">Model: \"sequential_4\"</span>\n",
       "</pre>\n"
      ],
      "text/plain": [
       "\u001b[1mModel: \"sequential_4\"\u001b[0m\n"
      ]
     },
     "metadata": {},
     "output_type": "display_data"
    },
    {
     "data": {
      "text/html": [
       "<pre style=\"white-space:pre;overflow-x:auto;line-height:normal;font-family:Menlo,'DejaVu Sans Mono',consolas,'Courier New',monospace\">┏━━━━━━━━━━━━━━━━━━━━━━━━━━━━━━━━━━━━━━┳━━━━━━━━━━━━━━━━━━━━━━━━━━━━━┳━━━━━━━━━━━━━━━━━┓\n",
       "┃<span style=\"font-weight: bold\"> Layer (type)                         </span>┃<span style=\"font-weight: bold\"> Output Shape                </span>┃<span style=\"font-weight: bold\">         Param # </span>┃\n",
       "┡━━━━━━━━━━━━━━━━━━━━━━━━━━━━━━━━━━━━━━╇━━━━━━━━━━━━━━━━━━━━━━━━━━━━━╇━━━━━━━━━━━━━━━━━┩\n",
       "│ vgg16 (<span style=\"color: #0087ff; text-decoration-color: #0087ff\">Functional</span>)                   │ (<span style=\"color: #00d7ff; text-decoration-color: #00d7ff\">None</span>, <span style=\"color: #00af00; text-decoration-color: #00af00\">7</span>, <span style=\"color: #00af00; text-decoration-color: #00af00\">7</span>, <span style=\"color: #00af00; text-decoration-color: #00af00\">512</span>)           │      <span style=\"color: #00af00; text-decoration-color: #00af00\">14,714,688</span> │\n",
       "├──────────────────────────────────────┼─────────────────────────────┼─────────────────┤\n",
       "│ flatten_4 (<span style=\"color: #0087ff; text-decoration-color: #0087ff\">Flatten</span>)                  │ (<span style=\"color: #00d7ff; text-decoration-color: #00d7ff\">None</span>, <span style=\"color: #00af00; text-decoration-color: #00af00\">25088</span>)               │               <span style=\"color: #00af00; text-decoration-color: #00af00\">0</span> │\n",
       "├──────────────────────────────────────┼─────────────────────────────┼─────────────────┤\n",
       "│ dense_8 (<span style=\"color: #0087ff; text-decoration-color: #0087ff\">Dense</span>)                      │ (<span style=\"color: #00d7ff; text-decoration-color: #00d7ff\">None</span>, <span style=\"color: #00af00; text-decoration-color: #00af00\">512</span>)                 │      <span style=\"color: #00af00; text-decoration-color: #00af00\">12,845,568</span> │\n",
       "├──────────────────────────────────────┼─────────────────────────────┼─────────────────┤\n",
       "│ dropout_4 (<span style=\"color: #0087ff; text-decoration-color: #0087ff\">Dropout</span>)                  │ (<span style=\"color: #00d7ff; text-decoration-color: #00d7ff\">None</span>, <span style=\"color: #00af00; text-decoration-color: #00af00\">512</span>)                 │               <span style=\"color: #00af00; text-decoration-color: #00af00\">0</span> │\n",
       "├──────────────────────────────────────┼─────────────────────────────┼─────────────────┤\n",
       "│ dense_9 (<span style=\"color: #0087ff; text-decoration-color: #0087ff\">Dense</span>)                      │ (<span style=\"color: #00d7ff; text-decoration-color: #00d7ff\">None</span>, <span style=\"color: #00af00; text-decoration-color: #00af00\">13</span>)                  │           <span style=\"color: #00af00; text-decoration-color: #00af00\">6,669</span> │\n",
       "└──────────────────────────────────────┴─────────────────────────────┴─────────────────┘\n",
       "</pre>\n"
      ],
      "text/plain": [
       "┏━━━━━━━━━━━━━━━━━━━━━━━━━━━━━━━━━━━━━━┳━━━━━━━━━━━━━━━━━━━━━━━━━━━━━┳━━━━━━━━━━━━━━━━━┓\n",
       "┃\u001b[1m \u001b[0m\u001b[1mLayer (type)                        \u001b[0m\u001b[1m \u001b[0m┃\u001b[1m \u001b[0m\u001b[1mOutput Shape               \u001b[0m\u001b[1m \u001b[0m┃\u001b[1m \u001b[0m\u001b[1m        Param #\u001b[0m\u001b[1m \u001b[0m┃\n",
       "┡━━━━━━━━━━━━━━━━━━━━━━━━━━━━━━━━━━━━━━╇━━━━━━━━━━━━━━━━━━━━━━━━━━━━━╇━━━━━━━━━━━━━━━━━┩\n",
       "│ vgg16 (\u001b[38;5;33mFunctional\u001b[0m)                   │ (\u001b[38;5;45mNone\u001b[0m, \u001b[38;5;34m7\u001b[0m, \u001b[38;5;34m7\u001b[0m, \u001b[38;5;34m512\u001b[0m)           │      \u001b[38;5;34m14,714,688\u001b[0m │\n",
       "├──────────────────────────────────────┼─────────────────────────────┼─────────────────┤\n",
       "│ flatten_4 (\u001b[38;5;33mFlatten\u001b[0m)                  │ (\u001b[38;5;45mNone\u001b[0m, \u001b[38;5;34m25088\u001b[0m)               │               \u001b[38;5;34m0\u001b[0m │\n",
       "├──────────────────────────────────────┼─────────────────────────────┼─────────────────┤\n",
       "│ dense_8 (\u001b[38;5;33mDense\u001b[0m)                      │ (\u001b[38;5;45mNone\u001b[0m, \u001b[38;5;34m512\u001b[0m)                 │      \u001b[38;5;34m12,845,568\u001b[0m │\n",
       "├──────────────────────────────────────┼─────────────────────────────┼─────────────────┤\n",
       "│ dropout_4 (\u001b[38;5;33mDropout\u001b[0m)                  │ (\u001b[38;5;45mNone\u001b[0m, \u001b[38;5;34m512\u001b[0m)                 │               \u001b[38;5;34m0\u001b[0m │\n",
       "├──────────────────────────────────────┼─────────────────────────────┼─────────────────┤\n",
       "│ dense_9 (\u001b[38;5;33mDense\u001b[0m)                      │ (\u001b[38;5;45mNone\u001b[0m, \u001b[38;5;34m13\u001b[0m)                  │           \u001b[38;5;34m6,669\u001b[0m │\n",
       "└──────────────────────────────────────┴─────────────────────────────┴─────────────────┘\n"
      ]
     },
     "metadata": {},
     "output_type": "display_data"
    },
    {
     "data": {
      "text/html": [
       "<pre style=\"white-space:pre;overflow-x:auto;line-height:normal;font-family:Menlo,'DejaVu Sans Mono',consolas,'Courier New',monospace\"><span style=\"font-weight: bold\"> Total params: </span><span style=\"color: #00af00; text-decoration-color: #00af00\">27,566,925</span> (105.16 MB)\n",
       "</pre>\n"
      ],
      "text/plain": [
       "\u001b[1m Total params: \u001b[0m\u001b[38;5;34m27,566,925\u001b[0m (105.16 MB)\n"
      ]
     },
     "metadata": {},
     "output_type": "display_data"
    },
    {
     "data": {
      "text/html": [
       "<pre style=\"white-space:pre;overflow-x:auto;line-height:normal;font-family:Menlo,'DejaVu Sans Mono',consolas,'Courier New',monospace\"><span style=\"font-weight: bold\"> Trainable params: </span><span style=\"color: #00af00; text-decoration-color: #00af00\">12,852,237</span> (49.03 MB)\n",
       "</pre>\n"
      ],
      "text/plain": [
       "\u001b[1m Trainable params: \u001b[0m\u001b[38;5;34m12,852,237\u001b[0m (49.03 MB)\n"
      ]
     },
     "metadata": {},
     "output_type": "display_data"
    },
    {
     "data": {
      "text/html": [
       "<pre style=\"white-space:pre;overflow-x:auto;line-height:normal;font-family:Menlo,'DejaVu Sans Mono',consolas,'Courier New',monospace\"><span style=\"font-weight: bold\"> Non-trainable params: </span><span style=\"color: #00af00; text-decoration-color: #00af00\">14,714,688</span> (56.13 MB)\n",
       "</pre>\n"
      ],
      "text/plain": [
       "\u001b[1m Non-trainable params: \u001b[0m\u001b[38;5;34m14,714,688\u001b[0m (56.13 MB)\n"
      ]
     },
     "metadata": {},
     "output_type": "display_data"
    }
   ],
   "source": [
    "from tensorflow.keras.applications import VGG16\n",
    "from tensorflow.keras import layers, models\n",
    "\n",
    "base_model = VGG16(input_shape=(224, 224, 3), include_top=False, weights='imagenet')\n",
    "base_model.trainable = False  # Congelar capas para evitar sobreajuste\n",
    "\n",
    "model = models.Sequential([\n",
    "    base_model,\n",
    "    layers.Flatten(),\n",
    "    layers.Dense(512, activation='relu'),\n",
    "    layers.Dropout(0.5),\n",
    "    layers.Dense(13, activation='softmax')\n",
    "])\n",
    "\n",
    "model.compile(\n",
    "    optimizer='adam',  # Optimizador recomendado\n",
    "    loss='categorical_crossentropy',  # Para clasificación multiclase\n",
    "    metrics=['accuracy']  # Para evaluar el rendimiento\n",
    ")\n",
    "\n",
    "model.summary()"
   ]
  },
  {
   "cell_type": "code",
   "execution_count": 75,
   "id": "47ff7056-e6a8-4a41-8417-bb5fbb61a20f",
   "metadata": {},
   "outputs": [
    {
     "name": "stdout",
     "output_type": "stream",
     "text": [
      "Epoch 1/10\n",
      "\u001b[1m54/54\u001b[0m \u001b[32m━━━━━━━━━━━━━━━━━━━━\u001b[0m\u001b[37m\u001b[0m \u001b[1m76s\u001b[0m 1s/step - accuracy: 0.6781 - loss: 2.5454 - val_accuracy: 0.8914 - val_loss: 0.3356\n",
      "Epoch 2/10\n",
      "\u001b[1m54/54\u001b[0m \u001b[32m━━━━━━━━━━━━━━━━━━━━\u001b[0m\u001b[37m\u001b[0m \u001b[1m73s\u001b[0m 1s/step - accuracy: 0.8751 - loss: 0.3528 - val_accuracy: 0.9029 - val_loss: 0.2609\n",
      "Epoch 3/10\n",
      "\u001b[1m54/54\u001b[0m \u001b[32m━━━━━━━━━━━━━━━━━━━━\u001b[0m\u001b[37m\u001b[0m \u001b[1m71s\u001b[0m 1s/step - accuracy: 0.9473 - loss: 0.1412 - val_accuracy: 0.9029 - val_loss: 0.2272\n",
      "Epoch 4/10\n",
      "\u001b[1m54/54\u001b[0m \u001b[32m━━━━━━━━━━━━━━━━━━━━\u001b[0m\u001b[37m\u001b[0m \u001b[1m71s\u001b[0m 1s/step - accuracy: 0.9505 - loss: 0.1238 - val_accuracy: 0.9029 - val_loss: 0.2306\n",
      "Epoch 5/10\n",
      "\u001b[1m54/54\u001b[0m \u001b[32m━━━━━━━━━━━━━━━━━━━━\u001b[0m\u001b[37m\u001b[0m \u001b[1m72s\u001b[0m 1s/step - accuracy: 0.9795 - loss: 0.0631 - val_accuracy: 0.9143 - val_loss: 0.2437\n",
      "Epoch 6/10\n",
      "\u001b[1m54/54\u001b[0m \u001b[32m━━━━━━━━━━━━━━━━━━━━\u001b[0m\u001b[37m\u001b[0m \u001b[1m72s\u001b[0m 1s/step - accuracy: 0.9813 - loss: 0.0520 - val_accuracy: 0.9314 - val_loss: 0.2083\n",
      "Epoch 7/10\n",
      "\u001b[1m54/54\u001b[0m \u001b[32m━━━━━━━━━━━━━━━━━━━━\u001b[0m\u001b[37m\u001b[0m \u001b[1m72s\u001b[0m 1s/step - accuracy: 0.9851 - loss: 0.0381 - val_accuracy: 0.9200 - val_loss: 0.2189\n",
      "Epoch 8/10\n",
      "\u001b[1m54/54\u001b[0m \u001b[32m━━━━━━━━━━━━━━━━━━━━\u001b[0m\u001b[37m\u001b[0m \u001b[1m72s\u001b[0m 1s/step - accuracy: 0.9792 - loss: 0.0543 - val_accuracy: 0.9314 - val_loss: 0.2795\n",
      "Epoch 9/10\n",
      "\u001b[1m54/54\u001b[0m \u001b[32m━━━━━━━━━━━━━━━━━━━━\u001b[0m\u001b[37m\u001b[0m \u001b[1m72s\u001b[0m 1s/step - accuracy: 0.9900 - loss: 0.0386 - val_accuracy: 0.9143 - val_loss: 0.3122\n",
      "Epoch 10/10\n",
      "\u001b[1m54/54\u001b[0m \u001b[32m━━━━━━━━━━━━━━━━━━━━\u001b[0m\u001b[37m\u001b[0m \u001b[1m72s\u001b[0m 1s/step - accuracy: 0.9896 - loss: 0.0284 - val_accuracy: 0.8800 - val_loss: 0.4572\n"
     ]
    },
    {
     "data": {
      "text/plain": [
       "<keras.src.callbacks.history.History at 0x1d5e0f94950>"
      ]
     },
     "execution_count": 75,
     "metadata": {},
     "output_type": "execute_result"
    }
   ],
   "source": [
    "model.fit(X_train, y_train, epochs=10, batch_size=32, validation_data=(X_val, y_val))"
   ]
  },
  {
   "cell_type": "code",
   "execution_count": 76,
   "id": "ef5644c3-4afa-4a1c-9b17-753123213bcd",
   "metadata": {},
   "outputs": [],
   "source": [
    "model.save('model.keras')  # Para Keras"
   ]
  }
 ],
 "metadata": {
  "kernelspec": {
   "display_name": "Python 3 (ipykernel)",
   "language": "python",
   "name": "python3"
  },
  "language_info": {
   "codemirror_mode": {
    "name": "ipython",
    "version": 3
   },
   "file_extension": ".py",
   "mimetype": "text/x-python",
   "name": "python",
   "nbconvert_exporter": "python",
   "pygments_lexer": "ipython3",
   "version": "3.11.9"
  }
 },
 "nbformat": 4,
 "nbformat_minor": 5
}
